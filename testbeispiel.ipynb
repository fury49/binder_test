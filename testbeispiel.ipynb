{
 "cells": [
  {
   "cell_type": "code",
   "execution_count": 3,
   "id": "0aeadc8b-24b2-4d7b-8a7b-9ee66ca133bf",
   "metadata": {},
   "outputs": [
    {
     "name": "stdout",
     "output_type": "stream",
     "text": [
      "Ordner 'input' wurde erstellt.\n"
     ]
    }
   ],
   "source": [
    "import os\n",
    "\n",
    "# Verzeichnisnamen festlegen\n",
    "input_dir = 'input'\n",
    "\n",
    "# Überprüfen, ob das Verzeichnis bereits existiert, wenn nicht, erstelle es\n",
    "if not os.path.exists(input_dir):\n",
    "    os.makedirs(input_dir)\n",
    "    print(f\"Ordner '{input_dir}' wurde erstellt.\")\n",
    "else:\n",
    "    print(f\"Ordner '{input_dir}' existiert bereits.\")\n"
   ]
  },
  {
   "cell_type": "code",
   "execution_count": 4,
   "id": "ee186725-4b5e-4d45-94ad-2afab671f7e0",
   "metadata": {},
   "outputs": [
    {
     "name": "stdout",
     "output_type": "stream",
     "text": [
      "Datei 'input/example.txt' wurde erfolgreich erstellt.\n"
     ]
    }
   ],
   "source": [
    "# Stelle sicher, dass der input-Ordner existiert\n",
    "input_dir = 'input'\n",
    "\n",
    "# Wenn der Ordner nicht existiert, erstelle ihn\n",
    "if not os.path.exists(input_dir):\n",
    "    os.makedirs(input_dir)\n",
    "\n",
    "# Dateipfad festlegen\n",
    "file_path = os.path.join(input_dir, 'example.txt')\n",
    "\n",
    "# Datei erstellen und Inhalt schreiben\n",
    "with open(file_path, 'w') as file:\n",
    "    file.write(\"Dies ist der Inhalt der Datei.\\nHier kannst du beliebigen Text hinzufügen.\")\n",
    "\n",
    "print(f\"Datei '{file_path}' wurde erfolgreich erstellt.\")\n"
   ]
  },
  {
   "cell_type": "code",
   "execution_count": 5,
   "id": "11e63334-0827-49ee-89e1-58d190879253",
   "metadata": {},
   "outputs": [
    {
     "name": "stdout",
     "output_type": "stream",
     "text": [
      "Datei 'input/example.txt' erfolgreich in 'output/example.zip' komprimiert.\n"
     ]
    }
   ],
   "source": [
    "import zipfile\n",
    "import os\n",
    "\n",
    "def zip_all_files_in_input():\n",
    "    input_dir = 'input'\n",
    "    output_dir = 'output'\n",
    "    \n",
    "    # Erstellt den Ausgabeordner, falls er nicht existiert\n",
    "    if not os.path.exists(output_dir):\n",
    "        os.makedirs(output_dir)\n",
    "    \n",
    "    # Durchlaufe alle Dateien im Eingabeverzeichnis\n",
    "    for file_name in os.listdir(input_dir):\n",
    "        file_path = os.path.join(input_dir, file_name)\n",
    "        \n",
    "        # Überprüfe, ob es sich um eine Datei handelt (keine Unterordner)\n",
    "        if os.path.isfile(file_path):\n",
    "            # Erstelle den ZIP-Dateinamen im Ausgabeordner\n",
    "            zip_name = os.path.join(output_dir, os.path.splitext(file_name)[0] + '.zip')\n",
    "            \n",
    "            with zipfile.ZipFile(zip_name, 'w') as zipf:\n",
    "                zipf.write(file_path, os.path.basename(file_path))\n",
    "            \n",
    "            print(f\"Datei '{file_path}' erfolgreich in '{zip_name}' komprimiert.\")\n",
    "        else:\n",
    "            print(f\"'{file_path}' ist keine Datei, wird übersprungen.\")\n",
    "\n",
    "# Beispielaufruf\n",
    "zip_all_files_in_input()"
   ]
  },
  {
   "cell_type": "code",
   "execution_count": null,
   "id": "b7b0a7c5-25cc-4ae5-a5c1-16ec54fcbcee",
   "metadata": {},
   "outputs": [],
   "source": []
  }
 ],
 "metadata": {
  "kernelspec": {
   "display_name": "Python 3 (ipykernel)",
   "language": "python",
   "name": "python3"
  },
  "language_info": {
   "codemirror_mode": {
    "name": "ipython",
    "version": 3
   },
   "file_extension": ".py",
   "mimetype": "text/x-python",
   "name": "python",
   "nbconvert_exporter": "python",
   "pygments_lexer": "ipython3",
   "version": "3.9.6"
  }
 },
 "nbformat": 4,
 "nbformat_minor": 5
}
